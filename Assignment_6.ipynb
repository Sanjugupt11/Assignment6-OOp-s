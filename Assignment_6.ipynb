{
 "cells": [
  {
   "cell_type": "code",
   "execution_count": 5,
   "id": "0c585a4b-ae8d-4273-85a5-dbf917aef9c0",
   "metadata": {},
   "outputs": [
    {
     "name": "stdout",
     "output_type": "stream",
     "text": [
      "this is pw website\n"
     ]
    }
   ],
   "source": [
    "#Q1. Explain Class and Object with respect to Object-Oriented Programming. Give a suitable example.\n",
    "''' Answer: Classes are user-defined data types that act as the blueprint for individual objects, attributes and methods. \n",
    "Objects are instances of a class created with specifically defined data'''\n",
    "#example\n",
    " \n",
    "class website:\n",
    "    def data(self):\n",
    "        print(\"this is pw website\")\n",
    "A=website() \n",
    "A.data()\n"
   ]
  },
  {
   "cell_type": "code",
   "execution_count": 4,
   "id": "9c398006-6f9e-4b53-8855-51e15a3033f6",
   "metadata": {},
   "outputs": [],
   "source": [
    "#Q2. Name the four pillars of OOPs.\n",
    "Answer: \n",
    "Inheritance, Polymorphism, Encapsulation and Abstraction\n"
   ]
  },
  {
   "cell_type": "code",
   "execution_count": 6,
   "id": "78f2f702-7a82-48d0-95d8-53e82d959ff6",
   "metadata": {},
   "outputs": [
    {
     "data": {
      "text/plain": [
       "('maruti', 900000, 'good')"
      ]
     },
     "execution_count": 6,
     "metadata": {},
     "output_type": "execute_result"
    }
   ],
   "source": [
    "'''Q3. Explain why the __init__() function is used. Give a suitable example.\n",
    "The __init__ function is called every time an object is created from a class. The __init__ method lets the class initialize \n",
    "the object's attributes and serves no other purpose. It is only used within classes.'''\n",
    "#example\n",
    " \n",
    "class vehicles:\n",
    "    def __init__(self,name,rate,quality):\n",
    "        self.name=name\n",
    "        self.rate=rate\n",
    "        self.quality=quality\n",
    "    def car(self):\n",
    "        return self.name,self.rate,self.quality\n",
    "A=vehicles('maruti',900000,'good')\n",
    "A.car()  "
   ]
  },
  {
   "cell_type": "code",
   "execution_count": null,
   "id": "f2819838-68d5-4904-a965-284a3c7f4f2b",
   "metadata": {},
   "outputs": [],
   "source": [
    "Q4. Why self is used in OOPs?\n",
    "Answer:The self variable is used to represent the instance of the class which is often used in object-oriented programming.\n",
    "It works as a reference to the object. Python uses the self parameter to refer to instance attributes and methods of the class."
   ]
  },
  {
   "cell_type": "code",
   "execution_count": 7,
   "id": "fc9d3953-4732-4f71-aedb-1e0797dd57b4",
   "metadata": {},
   "outputs": [
    {
     "name": "stdout",
     "output_type": "stream",
     "text": [
      "This function is in parent class.\n",
      "This function is in child class.\n"
     ]
    }
   ],
   "source": [
    "'''Q5. What is inheritance? Give an example for each type of inheritance.\n",
    "Answer:-Inheritance is defined as the mechanism of inheriting the properties of the base class to the child class.\n",
    "There are five types of inheritance \n",
    "1)Single Inheritance\n",
    "2)multiple Inheritance\n",
    "3)multilevel Inheritance\n",
    "4)Hierarchical Inheritance\n",
    "5) Hybrid In heritance '''\n",
    "#single Inheritance\n",
    "class Parent:\n",
    "    def func1(self):\n",
    "        print(\"This function is in parent class.\")\n",
    "class Child(Parent):\n",
    "    def func2(self):\n",
    "        print(\"This function is in child class.\")\n",
    "object = Child()\n",
    "object.func1()\n",
    "object.func2()\n",
    "\n"
   ]
  },
  {
   "cell_type": "code",
   "execution_count": 8,
   "id": "96a2b17c-29e2-4ed0-b544-222b57067d0e",
   "metadata": {},
   "outputs": [
    {
     "name": "stdout",
     "output_type": "stream",
     "text": [
      "Father : RAM\n",
      "Mother : SITA\n"
     ]
    }
   ],
   "source": [
    "#multiple Inheritance:When a class can be derived from more than one base class this type of inheritance is called multiple inheritances.\n",
    "class Mother:\n",
    "    mothername = \"\"\n",
    " \n",
    "    def mother(self):\n",
    "        print(self.mothername)\n",
    "        \n",
    "\n",
    "class Father:\n",
    "    fathername = \"\"\n",
    " \n",
    "    def father(self):\n",
    "        print(self.fathername)\n",
    " \n",
    " \n",
    "class Son(Mother, Father):\n",
    "    def parents(self):\n",
    "        print(\"Father :\", self.fathername)\n",
    "        print(\"Mother :\", self.mothername)\n",
    " \n",
    " \n",
    "s1 = Son()\n",
    "s1.fathername = \"RAM\"\n",
    "s1.mothername = \"SITA\"\n",
    "s1.parents()"
   ]
  },
  {
   "cell_type": "code",
   "execution_count": 9,
   "id": "45375665-4e35-4f4e-8a53-eaa92e14f3b8",
   "metadata": {},
   "outputs": [
    {
     "name": "stdout",
     "output_type": "stream",
     "text": [
      "Lal mani\n",
      "Grandfather name : Lal mani\n",
      "Father name : Rampal\n",
      "Son name : Prince\n"
     ]
    }
   ],
   "source": [
    "#In multilevel inheritance, features of the base class and the derived class are further inherited into the new derived class.\n",
    "class Grandfather:\n",
    " \n",
    "    def __init__(self, grandfathername):\n",
    "        self.grandfathername = grandfathername\n",
    " \n",
    "# Intermediate class\n",
    " \n",
    " \n",
    "class Father(Grandfather):\n",
    "    def __init__(self, fathername, grandfathername):\n",
    "        self.fathername = fathername\n",
    " \n",
    "        # invoking constructor of Grandfather class\n",
    "        Grandfather.__init__(self, grandfathername)\n",
    " \n",
    "# Derived class\n",
    " \n",
    " \n",
    "class Son(Father):\n",
    "    def __init__(self, sonname, fathername, grandfathername):\n",
    "        self.sonname = sonname\n",
    " \n",
    "        # invoking constructor of Father class\n",
    "        Father.__init__(self, fathername, grandfathername)\n",
    " \n",
    "    def print_name(self):\n",
    "        print('Grandfather name :', self.grandfathername)\n",
    "        print(\"Father name :\", self.fathername)\n",
    "        print(\"Son name :\", self.sonname)\n",
    " \n",
    " \n",
    "#  Driver code\n",
    "s1 = Son('Prince', 'Rampal', 'Lal mani')\n",
    "print(s1.grandfathername)\n",
    "s1.print_name()"
   ]
  },
  {
   "cell_type": "code",
   "execution_count": null,
   "id": "0404658e-940b-4c67-916a-0c887c9d1fe2",
   "metadata": {},
   "outputs": [],
   "source": [
    "hierarchical inheritance. :When more than one derived class are created from a single base this type of inheritance is called hierarchical inheritance. \n"
   ]
  }
 ],
 "metadata": {
  "kernelspec": {
   "display_name": "Python 3 (ipykernel)",
   "language": "python",
   "name": "python3"
  },
  "language_info": {
   "codemirror_mode": {
    "name": "ipython",
    "version": 3
   },
   "file_extension": ".py",
   "mimetype": "text/x-python",
   "name": "python",
   "nbconvert_exporter": "python",
   "pygments_lexer": "ipython3",
   "version": "3.10.8"
  }
 },
 "nbformat": 4,
 "nbformat_minor": 5
}
